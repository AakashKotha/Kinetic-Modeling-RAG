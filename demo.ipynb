{
 "cells": [
  {
   "cell_type": "code",
   "execution_count": 8,
   "metadata": {},
   "outputs": [
    {
     "name": "stdout",
     "output_type": "stream",
     "text": [
      "Dataset shape: (739, 9)\n",
      "<class 'pandas.core.frame.DataFrame'>\n",
      "RangeIndex: 739 entries, 0 to 738\n",
      "Data columns (total 9 columns):\n",
      " #   Column        Non-Null Count  Dtype \n",
      "---  ------        --------------  ----- \n",
      " 0   title         739 non-null    object\n",
      " 1   authors       739 non-null    object\n",
      " 2   journal       739 non-null    object\n",
      " 3   year          739 non-null    object\n",
      " 4   abstract      739 non-null    object\n",
      " 5   url           739 non-null    object\n",
      " 6   search_query  739 non-null    object\n",
      " 7   search_date   739 non-null    object\n",
      " 8   embedding     739 non-null    object\n",
      "dtypes: object(9)\n",
      "memory usage: 52.1+ KB\n"
     ]
    }
   ],
   "source": [
    "# Jupyter Notebook cells for interactive preview\n",
    "\n",
    "# Cell 1: Load and basic info\n",
    "import pandas as pd\n",
    "import numpy as np\n",
    "\n",
    "# Load your file\n",
    "df = pd.read_pickle(\"pet_kinetic_modeling_last_5_years_as_of_2025-07-24.pkl\")\n",
    "print(f\"Dataset shape: {df.shape}\")\n",
    "df.info()"
   ]
  },
  {
   "cell_type": "code",
   "execution_count": 9,
   "metadata": {},
   "outputs": [
    {
     "data": {
      "text/html": [
       "<div>\n",
       "<style scoped>\n",
       "    .dataframe tbody tr th:only-of-type {\n",
       "        vertical-align: middle;\n",
       "    }\n",
       "\n",
       "    .dataframe tbody tr th {\n",
       "        vertical-align: top;\n",
       "    }\n",
       "\n",
       "    .dataframe thead th {\n",
       "        text-align: right;\n",
       "    }\n",
       "</style>\n",
       "<table border=\"1\" class=\"dataframe\">\n",
       "  <thead>\n",
       "    <tr style=\"text-align: right;\">\n",
       "      <th></th>\n",
       "      <th>title</th>\n",
       "      <th>authors</th>\n",
       "      <th>journal</th>\n",
       "      <th>year</th>\n",
       "      <th>abstract</th>\n",
       "      <th>url</th>\n",
       "      <th>search_query</th>\n",
       "      <th>search_date</th>\n",
       "      <th>embedding</th>\n",
       "    </tr>\n",
       "  </thead>\n",
       "  <tbody>\n",
       "    <tr>\n",
       "      <th>0</th>\n",
       "      <td>Total-Body PET Kinetic Modeling and Potential ...</td>\n",
       "      <td>Yiran Wang, Elizabeth Li, Simon R Cherry, Guob...</td>\n",
       "      <td>PET clinics</td>\n",
       "      <td>2021</td>\n",
       "      <td>The uEXPLORER total-body PET/CT system provide...</td>\n",
       "      <td>https://pubmed.ncbi.nlm.nih.gov/34353745/</td>\n",
       "      <td>PET Kinetic Modeling</td>\n",
       "      <td>2025-07-24</td>\n",
       "      <td>[-0.2511961, 0.3144019, 0.3854435, 0.099322885...</td>\n",
       "    </tr>\n",
       "    <tr>\n",
       "      <th>1</th>\n",
       "      <td>Kinetic modeling and parameter estimation of T...</td>\n",
       "      <td>Catriona Wimberley, Sonia Lavisse, Ansel Hillm...</td>\n",
       "      <td>European journal of nuclear medicine and molec...</td>\n",
       "      <td>2021</td>\n",
       "      <td>Purpose: Translocator protein 18-kDa (TSPO) im...</td>\n",
       "      <td>https://pubmed.ncbi.nlm.nih.gov/33693967/</td>\n",
       "      <td>PET Kinetic Modeling</td>\n",
       "      <td>2025-07-24</td>\n",
       "      <td>[-0.2343197, 0.45217928, 0.19918086, 0.0362724...</td>\n",
       "    </tr>\n",
       "    <tr>\n",
       "      <th>2</th>\n",
       "      <td>Kinetic modeling and parametric imaging with d...</td>\n",
       "      <td>Antonia Dimitrakopoulou-Strauss, Leyun Pan, Ch...</td>\n",
       "      <td>European journal of nuclear medicine and molec...</td>\n",
       "      <td>2021</td>\n",
       "      <td>Dynamic PET (dPET) studies have been used unti...</td>\n",
       "      <td>https://pubmed.ncbi.nlm.nih.gov/32430580/</td>\n",
       "      <td>PET Kinetic Modeling</td>\n",
       "      <td>2025-07-24</td>\n",
       "      <td>[-0.13470781, 0.22336128, 0.21109794, 0.087820...</td>\n",
       "    </tr>\n",
       "    <tr>\n",
       "      <th>3</th>\n",
       "      <td>Metabolic kinetic modeling of [11C]methionine ...</td>\n",
       "      <td>Jiajin Li, Beiwen Ni, Xiaofeng Yu, Cheng Wang,...</td>\n",
       "      <td>European journal of nuclear medicine and molec...</td>\n",
       "      <td>2023</td>\n",
       "      <td>Purpose: Multiple myeloma (MM) is a malignant ...</td>\n",
       "      <td>https://pubmed.ncbi.nlm.nih.gov/37039900/</td>\n",
       "      <td>PET Kinetic Modeling</td>\n",
       "      <td>2025-07-24</td>\n",
       "      <td>[-0.04451454, 0.3701654, 0.23768033, 0.0193843...</td>\n",
       "    </tr>\n",
       "    <tr>\n",
       "      <th>4</th>\n",
       "      <td>High-Temporal-Resolution Lung Kinetic Modeling...</td>\n",
       "      <td>Yiran Wang, Benjamin A Spencer, Jeffrey Schmal...</td>\n",
       "      <td>Journal of nuclear medicine : official publica...</td>\n",
       "      <td>2023</td>\n",
       "      <td>Tracer kinetic modeling in dynamic PET has the...</td>\n",
       "      <td>https://pubmed.ncbi.nlm.nih.gov/37116916/</td>\n",
       "      <td>PET Kinetic Modeling</td>\n",
       "      <td>2025-07-24</td>\n",
       "      <td>[-0.21560048, 0.19309267, 0.3516659, 0.1280907...</td>\n",
       "    </tr>\n",
       "  </tbody>\n",
       "</table>\n",
       "</div>"
      ],
      "text/plain": [
       "                                               title  \\\n",
       "0  Total-Body PET Kinetic Modeling and Potential ...   \n",
       "1  Kinetic modeling and parameter estimation of T...   \n",
       "2  Kinetic modeling and parametric imaging with d...   \n",
       "3  Metabolic kinetic modeling of [11C]methionine ...   \n",
       "4  High-Temporal-Resolution Lung Kinetic Modeling...   \n",
       "\n",
       "                                             authors  \\\n",
       "0  Yiran Wang, Elizabeth Li, Simon R Cherry, Guob...   \n",
       "1  Catriona Wimberley, Sonia Lavisse, Ansel Hillm...   \n",
       "2  Antonia Dimitrakopoulou-Strauss, Leyun Pan, Ch...   \n",
       "3  Jiajin Li, Beiwen Ni, Xiaofeng Yu, Cheng Wang,...   \n",
       "4  Yiran Wang, Benjamin A Spencer, Jeffrey Schmal...   \n",
       "\n",
       "                                             journal  year  \\\n",
       "0                                        PET clinics  2021   \n",
       "1  European journal of nuclear medicine and molec...  2021   \n",
       "2  European journal of nuclear medicine and molec...  2021   \n",
       "3  European journal of nuclear medicine and molec...  2023   \n",
       "4  Journal of nuclear medicine : official publica...  2023   \n",
       "\n",
       "                                            abstract  \\\n",
       "0  The uEXPLORER total-body PET/CT system provide...   \n",
       "1  Purpose: Translocator protein 18-kDa (TSPO) im...   \n",
       "2  Dynamic PET (dPET) studies have been used unti...   \n",
       "3  Purpose: Multiple myeloma (MM) is a malignant ...   \n",
       "4  Tracer kinetic modeling in dynamic PET has the...   \n",
       "\n",
       "                                         url          search_query  \\\n",
       "0  https://pubmed.ncbi.nlm.nih.gov/34353745/  PET Kinetic Modeling   \n",
       "1  https://pubmed.ncbi.nlm.nih.gov/33693967/  PET Kinetic Modeling   \n",
       "2  https://pubmed.ncbi.nlm.nih.gov/32430580/  PET Kinetic Modeling   \n",
       "3  https://pubmed.ncbi.nlm.nih.gov/37039900/  PET Kinetic Modeling   \n",
       "4  https://pubmed.ncbi.nlm.nih.gov/37116916/  PET Kinetic Modeling   \n",
       "\n",
       "  search_date                                          embedding  \n",
       "0  2025-07-24  [-0.2511961, 0.3144019, 0.3854435, 0.099322885...  \n",
       "1  2025-07-24  [-0.2343197, 0.45217928, 0.19918086, 0.0362724...  \n",
       "2  2025-07-24  [-0.13470781, 0.22336128, 0.21109794, 0.087820...  \n",
       "3  2025-07-24  [-0.04451454, 0.3701654, 0.23768033, 0.0193843...  \n",
       "4  2025-07-24  [-0.21560048, 0.19309267, 0.3516659, 0.1280907...  "
      ]
     },
     "execution_count": 9,
     "metadata": {},
     "output_type": "execute_result"
    }
   ],
   "source": [
    "# Cell 2: Preview structure\n",
    "df.head()"
   ]
  },
  {
   "cell_type": "code",
   "execution_count": 10,
   "metadata": {},
   "outputs": [
    {
     "name": "stdout",
     "output_type": "stream",
     "text": [
      "Search queries in this dataset:\n",
      "search_query\n",
      "PET Kinetic Modeling    739\n",
      "Name: count, dtype: int64\n",
      "\n",
      "Year distribution:\n",
      "year\n",
      "2020     52\n",
      "2021    138\n",
      "2022    143\n",
      "2023    139\n",
      "2024    150\n",
      "2025    117\n",
      "Name: count, dtype: int64\n"
     ]
    }
   ],
   "source": [
    "# Cell 3: Check specific columns\n",
    "print(\"Search queries in this dataset:\")\n",
    "print(df['search_query'].value_counts())\n",
    "print(\"\\nYear distribution:\")\n",
    "print(df['year'].value_counts().sort_index())"
   ]
  },
  {
   "cell_type": "code",
   "execution_count": 11,
   "metadata": {},
   "outputs": [
    {
     "name": "stdout",
     "output_type": "stream",
     "text": [
      "ARTICLE 1:\n",
      "Title: Total-Body PET Kinetic Modeling and Potential Opportunities Using Deep Learning\n",
      "Authors: Yiran Wang, Elizabeth Li, Simon R Cherry, Guobao Wang\n",
      "Journal: PET clinics\n",
      "Year: 2021\n",
      "Abstract: The uEXPLORER total-body PET/CT system provides a very high level of detection sensitivity and simultaneous coverage of the entire body for dynamic imaging for quantification of tracer kinetics. This article describes the fundamentals and potential benefits of total-body kinetic modeling and parametric imaging focusing on the noninvasive derivation of blood input function, multiparametric imaging, and high-temporal resolution kinetic modeling. Along with its attractive properties, total-body kinetic modeling also brings significant challenges, such as the large scale of total-body dynamic PET data, the need for organ and tissue appropriate input functions and kinetic models, and total-body motion correction. These challenges, and the opportunities using deep learning, are discussed.\n",
      "Embedding shape: (768,)\n"
     ]
    }
   ],
   "source": [
    "# Cell 4: Sample article\n",
    "idx = 0  # Change this to see different articles\n",
    "print(f\"ARTICLE {idx + 1}:\")\n",
    "print(f\"Title: {df.iloc[idx]['title']}\")\n",
    "print(f\"Authors: {df.iloc[idx]['authors']}\")\n",
    "print(f\"Journal: {df.iloc[idx]['journal']}\")\n",
    "print(f\"Year: {df.iloc[idx]['year']}\")\n",
    "print(f\"Abstract: {df.iloc[idx]['abstract']}\")\n",
    "print(f\"Embedding shape: {df.iloc[idx]['embedding'].shape}\")"
   ]
  },
  {
   "cell_type": "code",
   "execution_count": 12,
   "metadata": {},
   "outputs": [
    {
     "name": "stdout",
     "output_type": "stream",
     "text": [
      "All embeddings have shape (768,): True\n",
      "Embeddings matrix shape: (739, 768)\n",
      "Embeddings data type: float32\n"
     ]
    }
   ],
   "source": [
    "# Cell 5: Embeddings verification\n",
    "# Check that all embeddings have same dimension\n",
    "embedding_shapes = [emb.shape for emb in df['embedding']]\n",
    "print(f\"All embeddings have shape {embedding_shapes[0]}: {all(shape == embedding_shapes[0] for shape in embedding_shapes)}\")\n",
    "\n",
    "# Convert to matrix for analysis\n",
    "embeddings_matrix = np.vstack(df['embedding'].values)\n",
    "print(f\"Embeddings matrix shape: {embeddings_matrix.shape}\")\n",
    "print(f\"Embeddings data type: {embeddings_matrix.dtype}\")"
   ]
  },
  {
   "cell_type": "code",
   "execution_count": 13,
   "metadata": {},
   "outputs": [
    {
     "name": "stdout",
     "output_type": "stream",
     "text": [
      "Cosine similarity between first 5 articles:\n",
      "[[1.    0.985 0.99  0.985 0.989]\n",
      " [0.985 1.    0.989 0.99  0.987]\n",
      " [0.99  0.989 1.    0.987 0.989]\n",
      " [0.985 0.99  0.987 1.    0.991]\n",
      " [0.989 0.987 0.989 0.991 1.   ]]\n"
     ]
    }
   ],
   "source": [
    "# Cell 6: Quick similarity check (optional)\n",
    "from sklearn.metrics.pairwise import cosine_similarity\n",
    "\n",
    "# Calculate similarity between first 5 articles\n",
    "if len(df) >= 5:\n",
    "    similarity_matrix = cosine_similarity(embeddings_matrix[:5])\n",
    "    print(\"Cosine similarity between first 5 articles:\")\n",
    "    print(similarity_matrix.round(3))"
   ]
  }
 ],
 "metadata": {
  "kernelspec": {
   "display_name": "venv",
   "language": "python",
   "name": "python3"
  },
  "language_info": {
   "codemirror_mode": {
    "name": "ipython",
    "version": 3
   },
   "file_extension": ".py",
   "mimetype": "text/x-python",
   "name": "python",
   "nbconvert_exporter": "python",
   "pygments_lexer": "ipython3",
   "version": "3.13.1"
  }
 },
 "nbformat": 4,
 "nbformat_minor": 2
}
